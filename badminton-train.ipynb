{
 "cells": [
  {
   "cell_type": "code",
   "execution_count": 1,
   "id": "f62c86f5",
   "metadata": {
    "_cell_guid": "b1076dfc-b9ad-4769-8c92-a6c4dae69d19",
    "_uuid": "8f2839f25d086af736a60e9eeb907d3b93b6e0e5",
    "execution": {
     "iopub.execute_input": "2023-05-15T17:32:42.202486Z",
     "iopub.status.busy": "2023-05-15T17:32:42.202094Z",
     "iopub.status.idle": "2023-05-15T17:32:48.295525Z",
     "shell.execute_reply": "2023-05-15T17:32:48.294458Z"
    },
    "papermill": {
     "duration": 6.107939,
     "end_time": "2023-05-15T17:32:48.298000",
     "exception": false,
     "start_time": "2023-05-15T17:32:42.190061",
     "status": "completed"
    },
    "tags": []
   },
   "outputs": [
    {
     "name": "stderr",
     "output_type": "stream",
     "text": [
      "/opt/conda/lib/python3.10/site-packages/scipy/__init__.py:146: UserWarning: A NumPy version >=1.16.5 and <1.23.0 is required for this version of SciPy (detected version 1.23.5\n",
      "  warnings.warn(f\"A NumPy version >={np_minversion} and <{np_maxversion}\"\n"
     ]
    }
   ],
   "source": [
    "import sys\n",
    "sys.path.append('../input/timm-pytorch-image-models/pytorch-image-models-master')\n",
    "import timm\n",
    "\n",
    "import os\n",
    "from tqdm import tqdm\n",
    "import itertools\n",
    "\n",
    "from sklearn.metrics import confusion_matrix\n",
    "import matplotlib.pyplot as plt\n",
    "%matplotlib inline\n",
    "import pandas as pd\n",
    "from pandas import DataFrame\n",
    "import numpy as np\n",
    "import seaborn as sns\n",
    "\n",
    "from torch.utils.data.dataloader import DataLoader\n",
    "from torchvision.utils import make_grid\n",
    "import torch\n",
    "import torchvision\n",
    "from torch.utils.data import random_split\n",
    "import torchvision.models as models\n",
    "import torch.nn as nn\n",
    "import torch.nn.functional as F\n",
    "import torchvision.transforms as T\n",
    "from torchvision.datasets import ImageFolder\n",
    "import torchvision.transforms as transforms\n",
    "from torch.utils.data import WeightedRandomSampler\n",
    "\n",
    "torch.backends.cudnn.benchmark = True\n"
   ]
  },
  {
   "cell_type": "code",
   "execution_count": 2,
   "id": "1fbf30e6",
   "metadata": {
    "execution": {
     "iopub.execute_input": "2023-05-15T17:32:48.317322Z",
     "iopub.status.busy": "2023-05-15T17:32:48.316489Z",
     "iopub.status.idle": "2023-05-15T17:32:48.489497Z",
     "shell.execute_reply": "2023-05-15T17:32:48.488606Z"
    },
    "papermill": {
     "duration": 0.18497,
     "end_time": "2023-05-15T17:32:48.491907",
     "exception": false,
     "start_time": "2023-05-15T17:32:48.306937",
     "status": "completed"
    },
    "tags": []
   },
   "outputs": [
    {
     "name": "stdout",
     "output_type": "stream",
     "text": [
      "['00351_52.jpg', '00351_75.jpg', '00351_95.jpg', '00351_114.jpg', '00351_129.jpg', '00351_167.jpg', '00352_34.jpg', '00352_99.jpg', '00352_122.jpg', '00352_145.jpg', '00352_182.jpg', '00352_225.jpg', '00352_253.jpg', '00352_303.jpg', '00352_324.jpg', '00352_356.jpg', '00352_402.jpg', '00352_447.jpg', '00352_467.jpg', '00352_496.jpg', '00352_539.jpg', '00352_562.jpg', '00352_593.jpg', '00352_628.jpg', '00352_668.jpg', '00352_702.jpg', '00352_719.jpg', '00352_738.jpg', '00352_753.jpg', '00352_771.jpg', '00352_782.jpg', '00352_803.jpg', '00352_817.jpg', '00352_853.jpg', '00352_880.jpg', '00352_911.jpg', '00352_951.jpg', '00352_993.jpg', '00352_1015.jpg', '00352_1043.jpg', '00352_1083.jpg', '00352_1096.jpg', '00352_1132.jpg', '00352_1163.jpg', '00352_1177.jpg', '00352_1205.jpg', '00352_1245.jpg', '00352_1269.jpg', '00353_17.jpg', '00353_39.jpg', '00353_75.jpg', '00353_101.jpg', '00353_114.jpg', '00353_144.jpg', '00353_169.jpg', '00353_193.jpg', '00353_232.jpg', '00353_250.jpg', '00353_282.jpg', '00353_311.jpg', '00354_13.jpg', '00354_40.jpg', '00354_73.jpg', '00354_108.jpg', '00354_129.jpg', '00354_159.jpg', '00354_186.jpg', '00354_225.jpg', '00354_251.jpg', '00354_283.jpg', '00355_43.jpg', '00355_58.jpg', '00355_82.jpg', '00356_12.jpg', '00356_33.jpg', '00357_14.jpg', '00357_36.jpg', '00358_8.jpg', '00358_22.jpg', '00358_37.jpg', '00358_48.jpg', '00358_64.jpg', '00358_100.jpg', '00358_118.jpg', '00359_32.jpg', '00359_60.jpg', '00359_106.jpg', '00359_131.jpg', '00359_162.jpg', '00359_202.jpg', '00359_234.jpg', '00359_278.jpg', '00359_305.jpg', '00359_337.jpg', '00359_374.jpg', '00360_55.jpg', '00360_83.jpg', '00360_116.jpg', '00360_156.jpg', '00360_180.jpg', '00361_35.jpg', '00361_54.jpg', '00361_78.jpg', '00361_102.jpg', '00361_163.jpg', '00361_178.jpg', '00361_208.jpg', '00361_233.jpg', '00361_262.jpg', '00361_273.jpg', '00361_299.jpg', '00361_320.jpg', '00361_329.jpg', '00361_355.jpg', '00362_22.jpg', '00362_44.jpg', '00362_72.jpg', '00362_115.jpg', '00362_170.jpg', '00363_24.jpg', '00363_86.jpg', '00364_41.jpg', '00364_65.jpg', '00364_97.jpg', '00364_127.jpg', '00364_157.jpg', '00364_217.jpg', '00364_247.jpg', '00365_16.jpg', '00365_33.jpg', '00365_60.jpg', '00365_101.jpg', '00365_115.jpg', '00365_140.jpg', '00366_14.jpg', '00366_33.jpg', '00366_55.jpg', '00366_73.jpg', '00366_98.jpg', '00367_16.jpg', '00367_66.jpg', '00367_86.jpg', '00367_110.jpg', '00367_134.jpg', '00367_163.jpg', '00367_174.jpg', '00367_201.jpg', '00367_216.jpg', '00367_240.jpg', '00367_272.jpg', '00367_295.jpg', '00367_326.jpg', '00367_362.jpg', '00367_376.jpg', '00368_50.jpg', '00368_68.jpg', '00368_88.jpg', '00368_101.jpg', '00369_20.jpg', '00369_44.jpg', '00369_72.jpg', '00369_82.jpg', '00369_102.jpg', '00369_120.jpg', '00369_141.jpg', '00369_177.jpg', '00369_200.jpg', '00369_219.jpg', '00369_247.jpg', '00369_273.jpg', '00369_325.jpg', '00370_42.jpg', '00370_67.jpg', '00370_92.jpg', '00370_119.jpg', '00370_165.jpg', '00370_205.jpg', '00370_244.jpg', '00370_264.jpg', '00370_293.jpg', '00370_324.jpg', '00370_348.jpg', '00370_403.jpg', '00371_6.jpg', '00371_26.jpg', '00371_51.jpg', '00371_79.jpg', '00371_113.jpg', '00371_130.jpg', '00371_158.jpg', '00371_186.jpg', '00371_206.jpg', '00371_232.jpg', '00371_258.jpg', '00371_314.jpg', '00371_338.jpg', '00371_366.jpg', '00371_384.jpg', '00371_396.jpg', '00371_413.jpg', '00371_425.jpg', '00371_446.jpg', '00371_465.jpg', '00371_478.jpg', '00371_504.jpg', '00371_532.jpg', '00371_563.jpg', '00371_594.jpg', '00371_612.jpg', '00371_640.jpg', '00371_667.jpg', '00371_703.jpg', '00371_744.jpg', '00371_768.jpg', '00371_798.jpg', '00371_839.jpg', '00372_6.jpg', '00372_27.jpg', '00372_44.jpg', '00373_43.jpg', '00373_71.jpg', '00373_106.jpg', '00373_130.jpg', '00373_158.jpg', '00373_199.jpg', '00374_45.jpg', '00374_72.jpg', '00374_105.jpg', '00375_17.jpg', '00375_42.jpg', '00375_84.jpg', '00375_100.jpg', '00376_28.jpg', '00376_50.jpg', '00376_77.jpg', '00376_109.jpg', '00376_131.jpg', '00376_153.jpg', '00376_191.jpg', '00376_208.jpg', '00376_238.jpg', '00376_267.jpg', '00376_297.jpg', '00376_319.jpg', '00376_354.jpg', '00377_19.jpg', '00377_39.jpg', '00377_64.jpg', '00377_89.jpg', '00377_152.jpg', '00377_186.jpg', '00377_221.jpg', '00377_252.jpg', '00377_269.jpg', '00377_298.jpg', '00377_339.jpg', '00377_366.jpg', '00377_381.jpg', '00377_399.jpg', '00377_410.jpg', '00377_425.jpg', '00377_437.jpg', '00378_80.jpg', '00378_119.jpg', '00378_149.jpg', '00378_165.jpg', '00378_194.jpg', '00378_224.jpg', '00378_252.jpg', '00378_295.jpg', '00378_313.jpg', '00378_340.jpg', '00378_369.jpg', '00378_407.jpg', '00378_437.jpg', '00378_455.jpg', '00378_481.jpg', '00378_519.jpg', '00379_42.jpg', '00379_75.jpg', '00379_115.jpg', '00379_129.jpg', '00379_159.jpg', '00379_182.jpg', '00379_210.jpg', '00379_271.jpg', '00380_18.jpg', '00380_41.jpg', '00380_66.jpg', '00380_93.jpg', '00381_46.jpg', '00381_67.jpg', '00381_91.jpg', '00381_116.jpg', '00381_171.jpg', '00381_185.jpg', '00381_208.jpg', '00381_230.jpg', '00382_12.jpg', '00382_30.jpg', '00382_72.jpg', '00382_97.jpg', '00382_116.jpg', '00382_138.jpg', '00382_158.jpg', '00382_182.jpg', '00382_212.jpg', '00382_249.jpg', '00383_15.jpg', '00383_35.jpg', '00383_61.jpg', '00383_115.jpg', '00383_138.jpg', '00383_159.jpg', '00383_171.jpg', '00383_203.jpg', '00383_217.jpg', '00383_241.jpg', '00383_269.jpg', '00383_305.jpg', '00383_342.jpg', '00383_354.jpg', '00383_381.jpg', '00383_421.jpg', '00383_440.jpg', '00383_463.jpg', '00383_489.jpg', '00383_506.jpg', '00383_527.jpg', '00383_553.jpg', '00383_566.jpg', '00383_591.jpg', '00383_605.jpg', '00383_633.jpg', '00383_660.jpg', '00383_673.jpg', '00384_21.jpg', '00384_40.jpg', '00384_71.jpg', '00384_107.jpg', '00384_119.jpg', '00384_143.jpg', '00384_179.jpg', '00385_23.jpg', '00385_44.jpg', '00385_75.jpg', '00385_99.jpg', '00386_20.jpg', '00386_79.jpg', '00386_98.jpg', '00386_131.jpg', '00386_166.jpg', '00386_199.jpg', '00386_246.jpg', '00386_276.jpg', '00386_324.jpg', '00386_352.jpg', '00386_379.jpg', '00386_415.jpg', '00386_435.jpg', '00386_462.jpg', '00386_488.jpg', '00386_517.jpg', '00386_535.jpg', '00386_570.jpg', '00386_600.jpg', '00386_629.jpg', '00386_672.jpg', '00387_13.jpg', '00387_29.jpg', '00387_51.jpg', '00387_74.jpg', '00387_108.jpg', '00387_126.jpg', '00387_150.jpg', '00387_161.jpg', '00387_178.jpg', '00388_6.jpg', '00388_19.jpg', '00388_42.jpg', '00388_82.jpg', '00388_108.jpg', '00388_131.jpg', '00388_157.jpg', '00388_194.jpg', '00388_203.jpg', '00388_229.jpg', '00388_253.jpg', '00388_280.jpg', '00388_307.jpg', '00388_332.jpg', '00388_358.jpg', '00388_410.jpg', '00389_38.jpg', '00389_66.jpg', '00389_100.jpg', '00389_129.jpg', '00389_167.jpg', '00389_199.jpg', '00389_216.jpg', '00389_241.jpg', '00390_34.jpg', '00390_95.jpg', '00390_115.jpg', '00390_137.jpg', '00390_164.jpg', '00390_189.jpg', '00390_209.jpg', '00390_237.jpg', '00391_6.jpg', '00391_31.jpg', '00391_54.jpg', '00391_83.jpg', '00391_132.jpg', '00391_150.jpg', '00391_178.jpg', '00391_209.jpg', '00391_243.jpg', '00392_7.jpg', '00392_27.jpg', '00392_61.jpg', '00392_84.jpg', '00392_116.jpg', '00393_26.jpg', '00393_47.jpg', '00393_73.jpg', '00393_101.jpg', '00393_158.jpg', '00393_176.jpg', '00393_207.jpg', '00393_241.jpg', '00393_268.jpg', '00393_279.jpg', '00393_309.jpg', '00393_350.jpg', '00394_47.jpg', '00394_70.jpg', '00394_96.jpg', '00394_132.jpg', '00394_146.jpg', '00394_174.jpg', '00394_204.jpg', '00394_240.jpg', '00394_268.jpg', '00394_294.jpg', '00395_34.jpg', '00395_56.jpg', '00395_80.jpg', '00396_15.jpg', '00396_78.jpg', '00396_99.jpg', '00396_126.jpg', '00396_163.jpg', '00396_183.jpg', '00396_206.jpg', '00396_232.jpg', '00396_246.jpg', '00396_276.jpg', '00396_304.jpg', '00396_347.jpg', '00396_397.jpg', '00396_420.jpg', '00396_436.jpg', '00396_462.jpg', '00396_489.jpg', '00396_506.jpg', '00396_532.jpg', '00396_563.jpg', '00396_577.jpg', '00396_613.jpg', '00396_635.jpg', '00396_646.jpg', '00396_659.jpg', '00396_669.jpg', '00397_18.jpg', '00397_40.jpg', '00397_65.jpg', '00398_19.jpg', '00398_37.jpg', '00398_61.jpg', '00398_84.jpg', '00398_114.jpg', '00399_10.jpg', '00399_28.jpg', '00399_50.jpg', '00399_76.jpg', '00399_91.jpg', '00399_107.jpg', '00399_127.jpg', '00399_151.jpg', '00399_183.jpg', '00399_200.jpg', '00399_219.jpg', '00399_235.jpg', '00399_247.jpg', '00399_259.jpg', '00399_278.jpg', '00399_303.jpg', '00399_340.jpg', '00399_357.jpg', '00399_379.jpg', '00399_393.jpg', '00399_427.jpg', '00399_447.jpg', '00399_475.jpg', '00399_502.jpg', '00399_530.jpg', '00400_10.jpg', '00400_44.jpg', '00400_65.jpg', '00400_98.jpg', '00400_125.jpg', '00400_170.jpg', '00400_213.jpg', '00400_260.jpg', '00400_303.jpg', '00400_329.jpg', '00400_354.jpg', '00400_397.jpg', '00400_445.jpg', '00400_458.jpg', '00400_492.jpg', '00400_537.jpg', '00400_584.jpg', '00400_599.jpg', '00400_632.jpg', '00400_673.jpg', '00400_690.jpg', '00400_723.jpg', '00400_755.jpg', '00400_823.jpg', '00400_876.jpg']\n"
     ]
    }
   ],
   "source": [
    "data_ds = \"../input/tmp-img\"\n",
    "# datatest_ds = \"../input/aicup-crops/test\"\n",
    "classes = os.listdir(data_ds)\n",
    "# classes = classes.sort()\n",
    "classes.sort(key=lambda x:int(x[6:-4]))\n",
    "classes.sort(key=lambda x:int(x[0:5]))\n",
    "print(classes)"
   ]
  },
  {
   "cell_type": "code",
   "execution_count": 3,
   "id": "1f981eff",
   "metadata": {
    "execution": {
     "iopub.execute_input": "2023-05-15T17:32:48.511382Z",
     "iopub.status.busy": "2023-05-15T17:32:48.509968Z",
     "iopub.status.idle": "2023-05-15T17:32:48.577524Z",
     "shell.execute_reply": "2023-05-15T17:32:48.576486Z"
    },
    "papermill": {
     "duration": 0.07967,
     "end_time": "2023-05-15T17:32:48.580348",
     "exception": false,
     "start_time": "2023-05-15T17:32:48.500678",
     "status": "completed"
    },
    "tags": []
   },
   "outputs": [
    {
     "data": {
      "text/html": [
       "<div>\n",
       "<style scoped>\n",
       "    .dataframe tbody tr th:only-of-type {\n",
       "        vertical-align: middle;\n",
       "    }\n",
       "\n",
       "    .dataframe tbody tr th {\n",
       "        vertical-align: top;\n",
       "    }\n",
       "\n",
       "    .dataframe thead th {\n",
       "        text-align: right;\n",
       "    }\n",
       "</style>\n",
       "<table border=\"1\" class=\"dataframe\">\n",
       "  <thead>\n",
       "    <tr style=\"text-align: right;\">\n",
       "      <th></th>\n",
       "      <th>VideoName</th>\n",
       "      <th>ShotSeq</th>\n",
       "      <th>HitFrame</th>\n",
       "      <th>Hitter</th>\n",
       "      <th>RoundHead</th>\n",
       "      <th>Backhand</th>\n",
       "      <th>BallHeight</th>\n",
       "      <th>LandingX</th>\n",
       "      <th>LandingY</th>\n",
       "      <th>HitterLocationX</th>\n",
       "      <th>HitterLocationY</th>\n",
       "      <th>DefenderLocationX</th>\n",
       "      <th>DefenderLocationY</th>\n",
       "      <th>BallType</th>\n",
       "      <th>Winner</th>\n",
       "    </tr>\n",
       "  </thead>\n",
       "  <tbody>\n",
       "    <tr>\n",
       "      <th>3250</th>\n",
       "      <td>350</td>\n",
       "      <td>2</td>\n",
       "      <td>35</td>\n",
       "      <td>A</td>\n",
       "      <td>2</td>\n",
       "      <td>2</td>\n",
       "      <td>2</td>\n",
       "      <td>723</td>\n",
       "      <td>457</td>\n",
       "      <td>595</td>\n",
       "      <td>355</td>\n",
       "      <td>642</td>\n",
       "      <td>498</td>\n",
       "      <td>6</td>\n",
       "      <td>X</td>\n",
       "    </tr>\n",
       "    <tr>\n",
       "      <th>3251</th>\n",
       "      <td>350</td>\n",
       "      <td>3</td>\n",
       "      <td>51</td>\n",
       "      <td>B</td>\n",
       "      <td>2</td>\n",
       "      <td>2</td>\n",
       "      <td>2</td>\n",
       "      <td>643</td>\n",
       "      <td>349</td>\n",
       "      <td>693</td>\n",
       "      <td>509</td>\n",
       "      <td>600</td>\n",
       "      <td>344</td>\n",
       "      <td>6</td>\n",
       "      <td>X</td>\n",
       "    </tr>\n",
       "    <tr>\n",
       "      <th>3252</th>\n",
       "      <td>350</td>\n",
       "      <td>4</td>\n",
       "      <td>70</td>\n",
       "      <td>A</td>\n",
       "      <td>2</td>\n",
       "      <td>1</td>\n",
       "      <td>2</td>\n",
       "      <td>560</td>\n",
       "      <td>488</td>\n",
       "      <td>589</td>\n",
       "      <td>351</td>\n",
       "      <td>691</td>\n",
       "      <td>504</td>\n",
       "      <td>9</td>\n",
       "      <td>X</td>\n",
       "    </tr>\n",
       "    <tr>\n",
       "      <th>3253</th>\n",
       "      <td>350</td>\n",
       "      <td>5</td>\n",
       "      <td>82</td>\n",
       "      <td>B</td>\n",
       "      <td>2</td>\n",
       "      <td>1</td>\n",
       "      <td>1</td>\n",
       "      <td>689</td>\n",
       "      <td>327</td>\n",
       "      <td>642</td>\n",
       "      <td>498</td>\n",
       "      <td>584</td>\n",
       "      <td>368</td>\n",
       "      <td>4</td>\n",
       "      <td>X</td>\n",
       "    </tr>\n",
       "    <tr>\n",
       "      <th>3254</th>\n",
       "      <td>350</td>\n",
       "      <td>6</td>\n",
       "      <td>90</td>\n",
       "      <td>A</td>\n",
       "      <td>2</td>\n",
       "      <td>1</td>\n",
       "      <td>2</td>\n",
       "      <td>731</td>\n",
       "      <td>477</td>\n",
       "      <td>571</td>\n",
       "      <td>343</td>\n",
       "      <td>631</td>\n",
       "      <td>527</td>\n",
       "      <td>4</td>\n",
       "      <td>X</td>\n",
       "    </tr>\n",
       "    <tr>\n",
       "      <th>...</th>\n",
       "      <td>...</td>\n",
       "      <td>...</td>\n",
       "      <td>...</td>\n",
       "      <td>...</td>\n",
       "      <td>...</td>\n",
       "      <td>...</td>\n",
       "      <td>...</td>\n",
       "      <td>...</td>\n",
       "      <td>...</td>\n",
       "      <td>...</td>\n",
       "      <td>...</td>\n",
       "      <td>...</td>\n",
       "      <td>...</td>\n",
       "      <td>...</td>\n",
       "      <td>...</td>\n",
       "    </tr>\n",
       "    <tr>\n",
       "      <th>3695</th>\n",
       "      <td>393</td>\n",
       "      <td>4</td>\n",
       "      <td>101</td>\n",
       "      <td>B</td>\n",
       "      <td>2</td>\n",
       "      <td>2</td>\n",
       "      <td>2</td>\n",
       "      <td>760</td>\n",
       "      <td>276</td>\n",
       "      <td>751</td>\n",
       "      <td>425</td>\n",
       "      <td>687</td>\n",
       "      <td>346</td>\n",
       "      <td>8</td>\n",
       "      <td>X</td>\n",
       "    </tr>\n",
       "    <tr>\n",
       "      <th>3696</th>\n",
       "      <td>393</td>\n",
       "      <td>5</td>\n",
       "      <td>158</td>\n",
       "      <td>A</td>\n",
       "      <td>2</td>\n",
       "      <td>2</td>\n",
       "      <td>1</td>\n",
       "      <td>861</td>\n",
       "      <td>471</td>\n",
       "      <td>732</td>\n",
       "      <td>271</td>\n",
       "      <td>723</td>\n",
       "      <td>486</td>\n",
       "      <td>7</td>\n",
       "      <td>X</td>\n",
       "    </tr>\n",
       "    <tr>\n",
       "      <th>3697</th>\n",
       "      <td>393</td>\n",
       "      <td>6</td>\n",
       "      <td>176</td>\n",
       "      <td>B</td>\n",
       "      <td>2</td>\n",
       "      <td>2</td>\n",
       "      <td>2</td>\n",
       "      <td>527</td>\n",
       "      <td>367</td>\n",
       "      <td>795</td>\n",
       "      <td>486</td>\n",
       "      <td>730</td>\n",
       "      <td>285</td>\n",
       "      <td>6</td>\n",
       "      <td>X</td>\n",
       "    </tr>\n",
       "    <tr>\n",
       "      <th>3698</th>\n",
       "      <td>393</td>\n",
       "      <td>7</td>\n",
       "      <td>207</td>\n",
       "      <td>A</td>\n",
       "      <td>2</td>\n",
       "      <td>2</td>\n",
       "      <td>2</td>\n",
       "      <td>392</td>\n",
       "      <td>555</td>\n",
       "      <td>557</td>\n",
       "      <td>351</td>\n",
       "      <td>639</td>\n",
       "      <td>464</td>\n",
       "      <td>8</td>\n",
       "      <td>X</td>\n",
       "    </tr>\n",
       "    <tr>\n",
       "      <th>3699</th>\n",
       "      <td>393</td>\n",
       "      <td>8</td>\n",
       "      <td>241</td>\n",
       "      <td>B</td>\n",
       "      <td>2</td>\n",
       "      <td>1</td>\n",
       "      <td>1</td>\n",
       "      <td>735</td>\n",
       "      <td>295</td>\n",
       "      <td>452</td>\n",
       "      <td>577</td>\n",
       "      <td>576</td>\n",
       "      <td>321</td>\n",
       "      <td>3</td>\n",
       "      <td>X</td>\n",
       "    </tr>\n",
       "  </tbody>\n",
       "</table>\n",
       "<p>450 rows × 15 columns</p>\n",
       "</div>"
      ],
      "text/plain": [
       "      VideoName  ShotSeq  HitFrame Hitter  RoundHead  Backhand  BallHeight  \\\n",
       "3250        350        2        35      A          2         2           2   \n",
       "3251        350        3        51      B          2         2           2   \n",
       "3252        350        4        70      A          2         1           2   \n",
       "3253        350        5        82      B          2         1           1   \n",
       "3254        350        6        90      A          2         1           2   \n",
       "...         ...      ...       ...    ...        ...       ...         ...   \n",
       "3695        393        4       101      B          2         2           2   \n",
       "3696        393        5       158      A          2         2           1   \n",
       "3697        393        6       176      B          2         2           2   \n",
       "3698        393        7       207      A          2         2           2   \n",
       "3699        393        8       241      B          2         1           1   \n",
       "\n",
       "      LandingX  LandingY  HitterLocationX  HitterLocationY  DefenderLocationX  \\\n",
       "3250       723       457              595              355                642   \n",
       "3251       643       349              693              509                600   \n",
       "3252       560       488              589              351                691   \n",
       "3253       689       327              642              498                584   \n",
       "3254       731       477              571              343                631   \n",
       "...        ...       ...              ...              ...                ...   \n",
       "3695       760       276              751              425                687   \n",
       "3696       861       471              732              271                723   \n",
       "3697       527       367              795              486                730   \n",
       "3698       392       555              557              351                639   \n",
       "3699       735       295              452              577                576   \n",
       "\n",
       "      DefenderLocationY  BallType Winner  \n",
       "3250                498         6      X  \n",
       "3251                344         6      X  \n",
       "3252                504         9      X  \n",
       "3253                368         4      X  \n",
       "3254                527         4      X  \n",
       "...                 ...       ...    ...  \n",
       "3695                346         8      X  \n",
       "3696                486         7      X  \n",
       "3697                285         6      X  \n",
       "3698                464         8      X  \n",
       "3699                321         3      X  \n",
       "\n",
       "[450 rows x 15 columns]"
      ]
     },
     "execution_count": 3,
     "metadata": {},
     "output_type": "execute_result"
    }
   ],
   "source": [
    "df = pd.read_csv(\"/kaggle/input/badmin/all_hit_labels.csv\", encoding = 'utf-8')\n",
    "df.iloc[3250:3700]\n",
    "# df"
   ]
  },
  {
   "cell_type": "code",
   "execution_count": 4,
   "id": "103d7b94",
   "metadata": {
    "_kg_hide-input": false,
    "execution": {
     "iopub.execute_input": "2023-05-15T17:32:48.599485Z",
     "iopub.status.busy": "2023-05-15T17:32:48.599211Z",
     "iopub.status.idle": "2023-05-15T17:32:49.029365Z",
     "shell.execute_reply": "2023-05-15T17:32:49.027929Z"
    },
    "papermill": {
     "duration": 0.442216,
     "end_time": "2023-05-15T17:32:49.031618",
     "exception": true,
     "start_time": "2023-05-15T17:32:48.589402",
     "status": "failed"
    },
    "tags": []
   },
   "outputs": [
    {
     "ename": "FileNotFoundError",
     "evalue": "[Errno 2] No such file or directory: '/kaggle/temp/'",
     "output_type": "error",
     "traceback": [
      "\u001b[0;31m---------------------------------------------------------------------------\u001b[0m",
      "\u001b[0;31mFileNotFoundError\u001b[0m                         Traceback (most recent call last)",
      "Cell \u001b[0;32mIn[4], line 3\u001b[0m\n\u001b[1;32m      1\u001b[0m \u001b[38;5;28;01mimport\u001b[39;00m \u001b[38;5;21;01mshutil\u001b[39;00m\n\u001b[0;32m----> 3\u001b[0m \u001b[43mshutil\u001b[49m\u001b[38;5;241;43m.\u001b[39;49m\u001b[43mrmtree\u001b[49m\u001b[43m(\u001b[49m\u001b[38;5;124;43m'\u001b[39;49m\u001b[38;5;124;43m/kaggle/temp/\u001b[39;49m\u001b[38;5;124;43m'\u001b[39;49m\u001b[43m)\u001b[49m\n\u001b[1;32m      5\u001b[0m valid_num \u001b[38;5;241m=\u001b[39m \u001b[38;5;241m25\u001b[39m\n\u001b[1;32m      7\u001b[0m y_t \u001b[38;5;241m=\u001b[39m os\u001b[38;5;241m.\u001b[39mpath\u001b[38;5;241m.\u001b[39mjoin(\u001b[38;5;124m'\u001b[39m\u001b[38;5;124m/kaggle/temp/train\u001b[39m\u001b[38;5;124m'\u001b[39m, \u001b[38;5;124m'\u001b[39m\u001b[38;5;124my\u001b[39m\u001b[38;5;124m'\u001b[39m)\n",
      "File \u001b[0;32m/opt/conda/lib/python3.10/shutil.py:715\u001b[0m, in \u001b[0;36mrmtree\u001b[0;34m(path, ignore_errors, onerror)\u001b[0m\n\u001b[1;32m    713\u001b[0m     orig_st \u001b[38;5;241m=\u001b[39m os\u001b[38;5;241m.\u001b[39mlstat(path)\n\u001b[1;32m    714\u001b[0m \u001b[38;5;28;01mexcept\u001b[39;00m \u001b[38;5;167;01mException\u001b[39;00m:\n\u001b[0;32m--> 715\u001b[0m     \u001b[43monerror\u001b[49m\u001b[43m(\u001b[49m\u001b[43mos\u001b[49m\u001b[38;5;241;43m.\u001b[39;49m\u001b[43mlstat\u001b[49m\u001b[43m,\u001b[49m\u001b[43m \u001b[49m\u001b[43mpath\u001b[49m\u001b[43m,\u001b[49m\u001b[43m \u001b[49m\u001b[43msys\u001b[49m\u001b[38;5;241;43m.\u001b[39;49m\u001b[43mexc_info\u001b[49m\u001b[43m(\u001b[49m\u001b[43m)\u001b[49m\u001b[43m)\u001b[49m\n\u001b[1;32m    716\u001b[0m     \u001b[38;5;28;01mreturn\u001b[39;00m\n\u001b[1;32m    717\u001b[0m \u001b[38;5;28;01mtry\u001b[39;00m:\n",
      "File \u001b[0;32m/opt/conda/lib/python3.10/shutil.py:713\u001b[0m, in \u001b[0;36mrmtree\u001b[0;34m(path, ignore_errors, onerror)\u001b[0m\n\u001b[1;32m    710\u001b[0m \u001b[38;5;66;03m# Note: To guard against symlink races, we use the standard\u001b[39;00m\n\u001b[1;32m    711\u001b[0m \u001b[38;5;66;03m# lstat()/open()/fstat() trick.\u001b[39;00m\n\u001b[1;32m    712\u001b[0m \u001b[38;5;28;01mtry\u001b[39;00m:\n\u001b[0;32m--> 713\u001b[0m     orig_st \u001b[38;5;241m=\u001b[39m \u001b[43mos\u001b[49m\u001b[38;5;241;43m.\u001b[39;49m\u001b[43mlstat\u001b[49m\u001b[43m(\u001b[49m\u001b[43mpath\u001b[49m\u001b[43m)\u001b[49m\n\u001b[1;32m    714\u001b[0m \u001b[38;5;28;01mexcept\u001b[39;00m \u001b[38;5;167;01mException\u001b[39;00m:\n\u001b[1;32m    715\u001b[0m     onerror(os\u001b[38;5;241m.\u001b[39mlstat, path, sys\u001b[38;5;241m.\u001b[39mexc_info())\n",
      "\u001b[0;31mFileNotFoundError\u001b[0m: [Errno 2] No such file or directory: '/kaggle/temp/'"
     ]
    }
   ],
   "source": [
    "import shutil\n",
    "\n",
    "shutil.rmtree('/kaggle/temp/')\n",
    "\n",
    "valid_num = 25\n",
    "\n",
    "y_t = os.path.join('/kaggle/temp/train', 'y')\n",
    "y_v = os.path.join('/kaggle/temp/valid', 'y')\n",
    "n_t = os.path.join('/kaggle/temp/train', 'n')\n",
    "n_v = os.path.join('/kaggle/temp/valid', 'n')\n",
    "os.makedirs(y_t)\n",
    "os.makedirs(y_v)\n",
    "os.makedirs(n_t)\n",
    "os.makedirs(n_v)\n",
    "\n",
    "\n",
    "y = []\n",
    "n = []\n",
    "for aclass in classes:\n",
    "    mask1 = df['VideoName'] == int(aclass[0:5])\n",
    "    mask2 = df['HitFrame'] == int(aclass[6:-4])\n",
    "    tmp = int(df[(mask1 & mask2)].RoundHead)\n",
    "    if(tmp==1):\n",
    "        y.append(aclass)\n",
    "    else:\n",
    "        n.append(aclass)\n",
    "\n",
    "for f in y[valid_num:]:\n",
    "    src = os.path.join(data_ds, f)\n",
    "    dst = os.path.join(y_t, f)\n",
    "    shutil.copy(src, dst)\n",
    "for f in y[:valid_num]:\n",
    "    src = os.path.join(data_ds, f)\n",
    "    dst = os.path.join(y_v, f)\n",
    "    shutil.copy(src, dst)\n",
    "for f in n[valid_num:]:\n",
    "    src = os.path.join(data_ds, f)\n",
    "    dst = os.path.join(n_t, f)\n",
    "    shutil.copy(src, dst)\n",
    "for f in n[:valid_num]:\n",
    "    src = os.path.join(data_ds, f)\n",
    "    dst = os.path.join(n_v, f)\n",
    "    shutil.copy(src, dst)"
   ]
  },
  {
   "cell_type": "code",
   "execution_count": null,
   "id": "15d6a5e5",
   "metadata": {
    "execution": {
     "iopub.execute_input": "2023-05-15T17:10:43.429966Z",
     "iopub.status.busy": "2023-05-15T17:10:43.428876Z",
     "iopub.status.idle": "2023-05-15T17:10:43.446197Z",
     "shell.execute_reply": "2023-05-15T17:10:43.445234Z",
     "shell.execute_reply.started": "2023-05-15T17:10:43.429923Z"
    },
    "papermill": {
     "duration": null,
     "end_time": null,
     "exception": null,
     "start_time": null,
     "status": "pending"
    },
    "tags": []
   },
   "outputs": [],
   "source": [
    "transforms = T.Compose([\n",
    "#     T.Resize((360, 360)),\n",
    "#     T.RandomHorizontalFlip(p=0.5),\n",
    "#     T.RandomEqualize(p=1),\n",
    "    T.ToTensor(),\n",
    "#     T.Normalize((0.485, 0.456, 0.406), (0.229, 0.224, 0.225)),\n",
    "])\n",
    "train_ds = ImageFolder('/kaggle/temp/train', transform = transforms)\n",
    "val_ds = ImageFolder('/kaggle/temp/valid', transform = transforms)"
   ]
  },
  {
   "cell_type": "code",
   "execution_count": null,
   "id": "90905fc4",
   "metadata": {
    "execution": {
     "iopub.execute_input": "2023-05-15T17:10:45.941716Z",
     "iopub.status.busy": "2023-05-15T17:10:45.941142Z",
     "iopub.status.idle": "2023-05-15T17:10:45.957342Z",
     "shell.execute_reply": "2023-05-15T17:10:45.953918Z",
     "shell.execute_reply.started": "2023-05-15T17:10:45.941683Z"
    },
    "papermill": {
     "duration": null,
     "end_time": null,
     "exception": null,
     "start_time": null,
     "status": "pending"
    },
    "tags": []
   },
   "outputs": [],
   "source": [
    "random_seed = 42\n",
    "torch.manual_seed(random_seed)"
   ]
  },
  {
   "cell_type": "code",
   "execution_count": null,
   "id": "8bca5118",
   "metadata": {
    "execution": {
     "iopub.execute_input": "2023-05-15T17:10:48.234054Z",
     "iopub.status.busy": "2023-05-15T17:10:48.233670Z",
     "iopub.status.idle": "2023-05-15T17:10:48.240881Z",
     "shell.execute_reply": "2023-05-15T17:10:48.240017Z",
     "shell.execute_reply.started": "2023-05-15T17:10:48.234023Z"
    },
    "papermill": {
     "duration": null,
     "end_time": null,
     "exception": null,
     "start_time": null,
     "status": "pending"
    },
    "tags": []
   },
   "outputs": [],
   "source": [
    "len(train_ds), len(val_ds)"
   ]
  },
  {
   "cell_type": "code",
   "execution_count": null,
   "id": "1c485407",
   "metadata": {
    "execution": {
     "iopub.execute_input": "2023-05-15T17:28:17.679959Z",
     "iopub.status.busy": "2023-05-15T17:28:17.679566Z",
     "iopub.status.idle": "2023-05-15T17:28:17.685172Z",
     "shell.execute_reply": "2023-05-15T17:28:17.684265Z",
     "shell.execute_reply.started": "2023-05-15T17:28:17.679919Z"
    },
    "papermill": {
     "duration": null,
     "end_time": null,
     "exception": null,
     "start_time": null,
     "status": "pending"
    },
    "tags": []
   },
   "outputs": [],
   "source": [
    "batch_size = 16"
   ]
  },
  {
   "cell_type": "code",
   "execution_count": null,
   "id": "40a91b5b",
   "metadata": {
    "execution": {
     "iopub.execute_input": "2023-05-15T17:28:51.708024Z",
     "iopub.status.busy": "2023-05-15T17:28:51.707101Z",
     "iopub.status.idle": "2023-05-15T17:28:51.715923Z",
     "shell.execute_reply": "2023-05-15T17:28:51.714884Z",
     "shell.execute_reply.started": "2023-05-15T17:28:51.707989Z"
    },
    "papermill": {
     "duration": null,
     "end_time": null,
     "exception": null,
     "start_time": null,
     "status": "pending"
    },
    "tags": []
   },
   "outputs": [],
   "source": [
    "train_y = [label for img, label in train_ds.samples ]\n",
    "\n",
    "class_sample_count = np.array([len(np.where(train_y == t)[0]) for t in np.unique(train_y)])\n",
    "class_sample_count\n"
   ]
  },
  {
   "cell_type": "code",
   "execution_count": null,
   "id": "d52af6f0",
   "metadata": {
    "execution": {
     "iopub.execute_input": "2023-05-15T17:00:35.929652Z",
     "iopub.status.busy": "2023-05-15T17:00:35.929221Z",
     "iopub.status.idle": "2023-05-15T17:00:35.946532Z",
     "shell.execute_reply": "2023-05-15T17:00:35.945619Z",
     "shell.execute_reply.started": "2023-05-15T17:00:35.929623Z"
    },
    "papermill": {
     "duration": null,
     "end_time": null,
     "exception": null,
     "start_time": null,
     "status": "pending"
    },
    "tags": []
   },
   "outputs": [],
   "source": [
    "# weight = 1. / class_sample_count\n",
    "# samples_weight = torch.DoubleTensor([weight[t] for t in train_y])\n",
    "# sampler = WeightedRandomSampler(samples_weight, 20000, replacement=False)"
   ]
  },
  {
   "cell_type": "code",
   "execution_count": null,
   "id": "0846e6e8",
   "metadata": {
    "execution": {
     "iopub.execute_input": "2023-05-15T17:28:20.687469Z",
     "iopub.status.busy": "2023-05-15T17:28:20.687103Z",
     "iopub.status.idle": "2023-05-15T17:28:20.692919Z",
     "shell.execute_reply": "2023-05-15T17:28:20.691842Z",
     "shell.execute_reply.started": "2023-05-15T17:28:20.687438Z"
    },
    "papermill": {
     "duration": null,
     "end_time": null,
     "exception": null,
     "start_time": null,
     "status": "pending"
    },
    "tags": []
   },
   "outputs": [],
   "source": [
    "train_dl = DataLoader(train_ds, batch_size, num_workers = 2,  pin_memory=True)\n",
    "val_dl = DataLoader(val_ds, batch_size, num_workers = 2, pin_memory=True)"
   ]
  },
  {
   "cell_type": "code",
   "execution_count": null,
   "id": "2f824077",
   "metadata": {
    "execution": {
     "iopub.execute_input": "2023-05-15T17:28:23.141341Z",
     "iopub.status.busy": "2023-05-15T17:28:23.140946Z",
     "iopub.status.idle": "2023-05-15T17:28:23.149931Z",
     "shell.execute_reply": "2023-05-15T17:28:23.148983Z",
     "shell.execute_reply.started": "2023-05-15T17:28:23.141283Z"
    },
    "papermill": {
     "duration": null,
     "end_time": null,
     "exception": null,
     "start_time": null,
     "status": "pending"
    },
    "tags": []
   },
   "outputs": [],
   "source": [
    "def show_batch(dl):\n",
    "    for images, labels in dl:\n",
    "        fig, ax = plt.subplots(figsize=(12, 6))\n",
    "        ax.set_xticks([])\n",
    "        ax.set_yticks([])\n",
    "        ax.imshow(make_grid(images, nrow = 16).permute(1, 2, 0))\n",
    "        break"
   ]
  },
  {
   "cell_type": "code",
   "execution_count": null,
   "id": "c3d779c6",
   "metadata": {
    "execution": {
     "iopub.execute_input": "2023-05-15T17:28:26.775960Z",
     "iopub.status.busy": "2023-05-15T17:28:26.775601Z",
     "iopub.status.idle": "2023-05-15T17:28:32.431371Z",
     "shell.execute_reply": "2023-05-15T17:28:32.430287Z",
     "shell.execute_reply.started": "2023-05-15T17:28:26.775931Z"
    },
    "papermill": {
     "duration": null,
     "end_time": null,
     "exception": null,
     "start_time": null,
     "status": "pending"
    },
    "tags": []
   },
   "outputs": [],
   "source": [
    "show_batch(train_dl)"
   ]
  },
  {
   "cell_type": "markdown",
   "id": "709f3d11",
   "metadata": {
    "papermill": {
     "duration": null,
     "end_time": null,
     "exception": null,
     "start_time": null,
     "status": "pending"
    },
    "tags": []
   },
   "source": [
    "跑GPU"
   ]
  },
  {
   "cell_type": "code",
   "execution_count": null,
   "id": "66203330",
   "metadata": {
    "execution": {
     "iopub.execute_input": "2023-05-15T17:28:34.561060Z",
     "iopub.status.busy": "2023-05-15T17:28:34.560674Z",
     "iopub.status.idle": "2023-05-15T17:28:34.572118Z",
     "shell.execute_reply": "2023-05-15T17:28:34.571193Z",
     "shell.execute_reply.started": "2023-05-15T17:28:34.561024Z"
    },
    "papermill": {
     "duration": null,
     "end_time": null,
     "exception": null,
     "start_time": null,
     "status": "pending"
    },
    "tags": []
   },
   "outputs": [],
   "source": [
    "def get_default_device():\n",
    "    \"\"\"Pick GPU if available, else CPU\"\"\"\n",
    "    if torch.cuda.is_available():\n",
    "        return torch.device('cuda')\n",
    "    else:\n",
    "        return torch.device('cpu')\n",
    "    \n",
    "def to_device(data, device):\n",
    "    \"\"\"Move tensor(s) to chosen device\"\"\"\n",
    "    if isinstance(data, (list,tuple)):\n",
    "        return [to_device(x, device) for x in data]\n",
    "    return data.to(device, non_blocking=True)\n",
    "\n",
    "class DeviceDataLoader():\n",
    "    \"\"\"Wrap a dataloader to move data to a device\"\"\"\n",
    "    def __init__(self, dl, device):\n",
    "        self.dl = dl\n",
    "        self.device = device\n",
    "    def __iter__(self):\n",
    "        \"\"\"Yield a batch of data after moving it to device\"\"\"\n",
    "        for b in self.dl: \n",
    "            yield to_device(b, self.device)\n",
    "\n",
    "    def __len__(self):\n",
    "        \"\"\"Number of batches\"\"\"\n",
    "        return len(self.dl)\n",
    "#改batch"
   ]
  },
  {
   "cell_type": "code",
   "execution_count": null,
   "id": "e07ece29",
   "metadata": {
    "execution": {
     "iopub.execute_input": "2023-05-15T17:28:37.433510Z",
     "iopub.status.busy": "2023-05-15T17:28:37.432630Z",
     "iopub.status.idle": "2023-05-15T17:28:37.441363Z",
     "shell.execute_reply": "2023-05-15T17:28:37.440351Z",
     "shell.execute_reply.started": "2023-05-15T17:28:37.433478Z"
    },
    "papermill": {
     "duration": null,
     "end_time": null,
     "exception": null,
     "start_time": null,
     "status": "pending"
    },
    "tags": []
   },
   "outputs": [],
   "source": [
    "device = get_default_device()\n",
    "device"
   ]
  },
  {
   "cell_type": "markdown",
   "id": "70b43ea4",
   "metadata": {
    "papermill": {
     "duration": null,
     "end_time": null,
     "exception": null,
     "start_time": null,
     "status": "pending"
    },
    "tags": []
   },
   "source": [
    "Train model的函式"
   ]
  },
  {
   "cell_type": "code",
   "execution_count": null,
   "id": "9232ddcf",
   "metadata": {
    "execution": {
     "iopub.execute_input": "2023-05-15T17:28:58.997612Z",
     "iopub.status.busy": "2023-05-15T17:28:58.997202Z",
     "iopub.status.idle": "2023-05-15T17:28:59.011762Z",
     "shell.execute_reply": "2023-05-15T17:28:59.010576Z",
     "shell.execute_reply.started": "2023-05-15T17:28:58.997580Z"
    },
    "papermill": {
     "duration": null,
     "end_time": null,
     "exception": null,
     "start_time": null,
     "status": "pending"
    },
    "tags": []
   },
   "outputs": [],
   "source": [
    "def accuracy(outputs, labels):\n",
    "    _, preds = torch.max(outputs, dim=1)\n",
    "    return torch.tensor(torch.sum(preds == labels).item() / len(preds))\n",
    "\n",
    "class ImageClassificationBase(nn.Module):\n",
    "    def training_step(self, batch):\n",
    "        images, labels = batch \n",
    "        out = self(images)                  # Generate predictions\n",
    "        loss = F.cross_entropy(out, labels) # Calculate loss\n",
    "        return loss\n",
    "\n",
    "    def predict_step(self, batch, y_pred, y_true):\n",
    "        images, labels = batch \n",
    "        out = self(images)  # Generate predictions\n",
    "        _, preds = torch.max(out, 1)\n",
    "        loss = F.cross_entropy(out, labels)   # Calculate loss\n",
    "        y_pred.extend(preds.view(-1).detach().cpu().numpy())       # 將preds預測結果detach出來，並轉成numpy格式       \n",
    "        y_true.extend(labels.view(-1).detach().cpu().numpy())      # target是ground-truth的label\n",
    "        #acc = accuracy(out, labels)           # Calculate accuracy\n",
    "        return y_pred, y_true\n",
    "        #return {'val_loss': loss.detach(), 'val_acc': acc}\n",
    "    \n",
    "    def validation_step(self, batch):\n",
    "        images, labels = batch \n",
    "        out = self(images)                    # Generate predictions\n",
    "        loss = F.cross_entropy(out, labels)   # Calculate loss\n",
    "        acc = accuracy(out, labels)           # Calculate accuracy\n",
    "        return {'val_loss': loss.detach(), 'val_acc': acc}\n",
    "    \n",
    "    def validation_epoch_end(self, outputs):\n",
    "        batch_losses = [x['val_loss'] for x in outputs]\n",
    "        epoch_loss = torch.stack(batch_losses).mean()   # Combine losses\n",
    "        batch_accs = [x['val_acc'] for x in outputs]\n",
    "        epoch_acc = torch.stack(batch_accs).mean()      # Combine accuracies\n",
    "        return {'val_loss': epoch_loss.item(), 'val_acc': epoch_acc.item()}\n",
    "    \n",
    "    def epoch_end(self, epoch, result):\n",
    "        torch.save(self.network.state_dict(), '/kaggle/working/model-' + str(epoch) + '.pth')\n",
    "        print(\"Epoch {}: train_loss: {:.4f}, val_loss: {:.4f}, val_acc: {:.4f}\".format(\n",
    "            epoch+1, result['train_loss'], result['val_loss'], result['val_acc']))"
   ]
  },
  {
   "cell_type": "code",
   "execution_count": null,
   "id": "317bab87",
   "metadata": {
    "execution": {
     "iopub.execute_input": "2023-05-15T17:29:02.446509Z",
     "iopub.status.busy": "2023-05-15T17:29:02.445526Z",
     "iopub.status.idle": "2023-05-15T17:29:02.460037Z",
     "shell.execute_reply": "2023-05-15T17:29:02.458875Z",
     "shell.execute_reply.started": "2023-05-15T17:29:02.446462Z"
    },
    "papermill": {
     "duration": null,
     "end_time": null,
     "exception": null,
     "start_time": null,
     "status": "pending"
    },
    "tags": []
   },
   "outputs": [],
   "source": [
    "@torch.no_grad()\n",
    "def predict(model, val_loader, y_pred, y_true):\n",
    "    model.eval()\n",
    "    for batch in val_loader:\n",
    "        y_pred, y_true=model.predict_step(batch, y_pred, y_true)\n",
    "    #outputs = [model.validation_step(batch) for batch in tqdm(val_loader)]\n",
    "    return y_pred, y_true\n",
    "\n",
    "@torch.no_grad()\n",
    "def evaluate(model, val_loader):\n",
    "    model.eval()\n",
    "    outputs = [model.validation_step(batch) for batch in val_loader]\n",
    "    return model.validation_epoch_end(outputs)\n",
    "\n",
    "def fit(epochs, lr, model, train_loader, val_loader, y_pred, y_true, opt_func=torch.optim.SGD):\n",
    "    history = []\n",
    "    optimizer = opt_func(model.parameters(), lr)\n",
    "    for epoch in range(epochs):\n",
    "        # Training Phase \n",
    "        model.train()\n",
    "        train_losses = []\n",
    "        for batch in train_loader:\n",
    "            loss = model.training_step(batch)\n",
    "            train_losses.append(loss)\n",
    "            loss.backward()\n",
    "            optimizer.step()\n",
    "            optimizer.zero_grad()\n",
    "        # Validation phase\n",
    "        result = evaluate(model, val_loader)\n",
    "        result['train_loss'] = torch.stack(train_losses).mean().item()\n",
    "        model.epoch_end(epoch, result)\n",
    "        history.append(result)\n",
    "        predict(model, val_dl, y_pred, y_true )\n",
    "        target_names = ['y', 'n']\n",
    "        cnf_matrix = confusion_matrix(y_true, y_pred)\n",
    "        per_cls_acc = cnf_matrix.diagonal()/cnf_matrix.sum(axis=0)                    # https://stackoverflow.com/a/53824126/13369757\n",
    "        print(target_names)\n",
    "        print(per_cls_acc)                                                          #顯示每個class的Accuracy\n",
    "        print(\"Plot confusion matrix\")\n",
    "\n",
    "        # 開始繪製混淆矩陣\n",
    "        df_cm = pd.DataFrame(cnf_matrix, target_names, target_names)     # https://sofiadutta.github.io/datascience-ipynbs/pytorch/Image-Classification-using-PyTorch.html\n",
    "        plt.figure(figsize = (2,2))\n",
    "        sns.heatmap(df_cm, annot=True, fmt=\"d\", cmap='Blues')\n",
    "        plt.xlabel(\"prediction\")\n",
    "        plt.ylabel(\"label (ground truth)\")\n",
    "        y_pred=[]\n",
    "        y_true=[]\n",
    "    return history"
   ]
  },
  {
   "cell_type": "code",
   "execution_count": null,
   "id": "58b0788f",
   "metadata": {
    "execution": {
     "iopub.execute_input": "2023-05-15T17:29:05.293432Z",
     "iopub.status.busy": "2023-05-15T17:29:05.293050Z",
     "iopub.status.idle": "2023-05-15T17:29:05.450567Z",
     "shell.execute_reply": "2023-05-15T17:29:05.449610Z",
     "shell.execute_reply.started": "2023-05-15T17:29:05.293400Z"
    },
    "papermill": {
     "duration": null,
     "end_time": null,
     "exception": null,
     "start_time": null,
     "status": "pending"
    },
    "tags": []
   },
   "outputs": [],
   "source": [
    "from torch.cuda.amp import autocast\n",
    "class EfficientNet(ImageClassificationBase):\n",
    "    def __init__(self):\n",
    "        super().__init__()\n",
    "        # Use a pretrained model\n",
    "        self.network = timm.create_model('efficientnet_b0', pretrained=True)\n",
    "        # Replace last layer\n",
    "        num_ftrs = self.network.classifier.in_features\n",
    "        self.network.classifier = nn.Linear(num_ftrs, 2)\n",
    "    \n",
    "    @autocast()\n",
    "    def forward(self, xb):\n",
    "        return self.network(xb)\n",
    "\n",
    "model = EfficientNet()\n"
   ]
  },
  {
   "cell_type": "code",
   "execution_count": null,
   "id": "5ba82669",
   "metadata": {
    "collapsed": true,
    "execution": {
     "iopub.execute_input": "2023-05-15T17:29:07.651511Z",
     "iopub.status.busy": "2023-05-15T17:29:07.651141Z",
     "iopub.status.idle": "2023-05-15T17:29:07.679536Z",
     "shell.execute_reply": "2023-05-15T17:29:07.678511Z",
     "shell.execute_reply.started": "2023-05-15T17:29:07.651480Z"
    },
    "jupyter": {
     "outputs_hidden": true
    },
    "papermill": {
     "duration": null,
     "end_time": null,
     "exception": null,
     "start_time": null,
     "status": "pending"
    },
    "tags": []
   },
   "outputs": [],
   "source": [
    "train_dl = DeviceDataLoader(train_dl, device)\n",
    "val_dl = DeviceDataLoader(val_dl, device)\n",
    "to_device(model, device)"
   ]
  },
  {
   "cell_type": "code",
   "execution_count": null,
   "id": "6cb106ad",
   "metadata": {
    "execution": {
     "iopub.execute_input": "2023-05-15T17:29:23.410324Z",
     "iopub.status.busy": "2023-05-15T17:29:23.409942Z",
     "iopub.status.idle": "2023-05-15T17:29:23.569476Z",
     "shell.execute_reply": "2023-05-15T17:29:23.568506Z",
     "shell.execute_reply.started": "2023-05-15T17:29:23.410274Z"
    },
    "papermill": {
     "duration": null,
     "end_time": null,
     "exception": null,
     "start_time": null,
     "status": "pending"
    },
    "tags": []
   },
   "outputs": [],
   "source": [
    "model = to_device(EfficientNet(), device)\n",
    "#evaluate(model, val_dl)"
   ]
  },
  {
   "cell_type": "code",
   "execution_count": null,
   "id": "fa070de0",
   "metadata": {
    "execution": {
     "iopub.execute_input": "2023-05-15T17:29:24.920787Z",
     "iopub.status.busy": "2023-05-15T17:29:24.920407Z",
     "iopub.status.idle": "2023-05-15T17:29:24.928786Z",
     "shell.execute_reply": "2023-05-15T17:29:24.927665Z",
     "shell.execute_reply.started": "2023-05-15T17:29:24.920755Z"
    },
    "papermill": {
     "duration": null,
     "end_time": null,
     "exception": null,
     "start_time": null,
     "status": "pending"
    },
    "tags": []
   },
   "outputs": [],
   "source": [
    "y_pred=[]\n",
    "y_true=[]"
   ]
  },
  {
   "cell_type": "code",
   "execution_count": null,
   "id": "0d1c3fac",
   "metadata": {
    "execution": {
     "iopub.execute_input": "2023-05-15T17:29:26.844253Z",
     "iopub.status.busy": "2023-05-15T17:29:26.843423Z",
     "iopub.status.idle": "2023-05-15T17:30:45.040970Z",
     "shell.execute_reply": "2023-05-15T17:30:45.039803Z",
     "shell.execute_reply.started": "2023-05-15T17:29:26.844216Z"
    },
    "papermill": {
     "duration": null,
     "end_time": null,
     "exception": null,
     "start_time": null,
     "status": "pending"
    },
    "tags": []
   },
   "outputs": [],
   "source": [
    "num_epochs = 1\n",
    "opt_func = torch.optim.AdamW\n",
    "lr = 3e-4\n",
    "history = fit(num_epochs, lr, model, train_dl, val_dl, y_pred, y_true, opt_func)"
   ]
  },
  {
   "cell_type": "code",
   "execution_count": null,
   "id": "5f515991",
   "metadata": {
    "execution": {
     "iopub.execute_input": "2023-05-15T17:31:23.090918Z",
     "iopub.status.busy": "2023-05-15T17:31:23.090540Z",
     "iopub.status.idle": "2023-05-15T17:31:23.362106Z",
     "shell.execute_reply": "2023-05-15T17:31:23.361180Z",
     "shell.execute_reply.started": "2023-05-15T17:31:23.090884Z"
    },
    "papermill": {
     "duration": null,
     "end_time": null,
     "exception": null,
     "start_time": null,
     "status": "pending"
    },
    "tags": []
   },
   "outputs": [],
   "source": [
    "def plot_accuracies(history):\n",
    "    accuracies = [x['val_acc'] for x in history]\n",
    "    plt.plot(accuracies, '-x')\n",
    "    plt.xlabel('epoch')\n",
    "    plt.ylabel('accuracy')\n",
    "    plt.title('Accuracy vs. No. of epochs');\n",
    "\n",
    "plot_accuracies(history)"
   ]
  },
  {
   "cell_type": "code",
   "execution_count": null,
   "id": "8c942858",
   "metadata": {
    "execution": {
     "iopub.status.busy": "2023-05-15T15:50:23.688724Z",
     "iopub.status.idle": "2023-05-15T15:50:23.689794Z",
     "shell.execute_reply": "2023-05-15T15:50:23.689581Z",
     "shell.execute_reply.started": "2023-05-15T15:50:23.689556Z"
    },
    "papermill": {
     "duration": null,
     "end_time": null,
     "exception": null,
     "start_time": null,
     "status": "pending"
    },
    "tags": []
   },
   "outputs": [],
   "source": [
    "def plot_losses(history):\n",
    "    train_losses = [x.get('train_loss') for x in history]\n",
    "    val_losses = [x['val_loss'] for x in history]\n",
    "    plt.plot(train_losses, '-bx')\n",
    "    plt.plot(val_losses, '-rx')\n",
    "    plt.xlabel('epoch')\n",
    "    plt.ylabel('loss')\n",
    "    plt.legend(['Training', 'Validation'])\n",
    "    plt.title('Loss vs. No. of epochs');\n",
    "\n",
    "plot_losses(history)"
   ]
  },
  {
   "cell_type": "code",
   "execution_count": null,
   "id": "8dd9ae1f",
   "metadata": {
    "execution": {
     "iopub.status.busy": "2023-05-15T15:50:23.690975Z",
     "iopub.status.idle": "2023-05-15T15:50:23.691992Z",
     "shell.execute_reply": "2023-05-15T15:50:23.691780Z",
     "shell.execute_reply.started": "2023-05-15T15:50:23.691757Z"
    },
    "papermill": {
     "duration": null,
     "end_time": null,
     "exception": null,
     "start_time": null,
     "status": "pending"
    },
    "tags": []
   },
   "outputs": [],
   "source": [
    "# def predict_image(img, model):\n",
    "#     # Convert to a batch of 1\n",
    "#     xb = to_device(img.unsqueeze(0), device)\n",
    "#     # Get predictions from model\n",
    "#     yb = model(xb)\n",
    "#     # Pick index with highest probability\n",
    "#     prob, preds  = torch.max(yb, dim=1)\n",
    "#     # Retrieve the class label\n",
    "#     return dataset.classes[preds[0].item()]"
   ]
  },
  {
   "cell_type": "markdown",
   "id": "13b8362e",
   "metadata": {
    "papermill": {
     "duration": null,
     "end_time": null,
     "exception": null,
     "start_time": null,
     "status": "pending"
    },
    "tags": []
   },
   "source": [
    "測試test"
   ]
  },
  {
   "cell_type": "code",
   "execution_count": null,
   "id": "98d49dec",
   "metadata": {
    "execution": {
     "iopub.status.busy": "2023-05-15T15:50:23.693184Z",
     "iopub.status.idle": "2023-05-15T15:50:23.694218Z",
     "shell.execute_reply": "2023-05-15T15:50:23.693989Z",
     "shell.execute_reply.started": "2023-05-15T15:50:23.693966Z"
    },
    "papermill": {
     "duration": null,
     "end_time": null,
     "exception": null,
     "start_time": null,
     "status": "pending"
    },
    "tags": []
   },
   "outputs": [],
   "source": [
    "def test(model, dataloader):\n",
    "    model.eval()\n",
    "    pred_list =[]\n",
    "    pred_id_list=[]\n",
    "    with torch.no_grad():\n",
    "        with tqdm(dataloader,unit='batch',desc='Test') as tqdm_loader:\n",
    "            for idx, (imgid, img) in enumerate(tqdm_loader):\n",
    "\n",
    "                img = img.to(device=cfg['device'])\n",
    "                pred = model(img).detach().cpu().argmax(dim=1)\n",
    "\n",
    "                pred_list.append(pred)\n",
    "                pred_id_list.append(imgid)\n",
    "    pred_list = np.concatenate(pred_list,axis=0)\n",
    "    pred_id_list =  np.concatenate(pred_id_list,axis=0)\n",
    "    return pred_list,pred_id_list\n",
    "pred_list,pred_id_list = test(model,test_dl)"
   ]
  },
  {
   "cell_type": "code",
   "execution_count": null,
   "id": "0ed6c109",
   "metadata": {
    "execution": {
     "iopub.status.busy": "2023-05-15T15:50:23.695395Z",
     "iopub.status.idle": "2023-05-15T15:50:23.696563Z",
     "shell.execute_reply": "2023-05-15T15:50:23.696296Z",
     "shell.execute_reply.started": "2023-05-15T15:50:23.696269Z"
    },
    "papermill": {
     "duration": null,
     "end_time": null,
     "exception": null,
     "start_time": null,
     "status": "pending"
    },
    "tags": []
   },
   "outputs": [],
   "source": [
    "pred_id_list = [imageid+'.jpg' for imageid in pred_id_list]"
   ]
  },
  {
   "cell_type": "code",
   "execution_count": null,
   "id": "87d8536f",
   "metadata": {
    "execution": {
     "iopub.status.busy": "2023-05-15T15:50:23.697849Z",
     "iopub.status.idle": "2023-05-15T15:50:23.698871Z",
     "shell.execute_reply": "2023-05-15T15:50:23.698659Z",
     "shell.execute_reply.started": "2023-05-15T15:50:23.698636Z"
    },
    "papermill": {
     "duration": null,
     "end_time": null,
     "exception": null,
     "start_time": null,
     "status": "pending"
    },
    "tags": []
   },
   "outputs": [],
   "source": [
    "submit_df  = pd.DataFrame(columns=upload_sample_df.columns)\n",
    "submit_df['image_filename'] = pred_id_list\n",
    "submit_df['label'] = pred_list\n",
    "submit_df.to_csv('submit.csv',index=False)\n",
    "print(submit_df.head(10))"
   ]
  }
 ],
 "metadata": {
  "kernelspec": {
   "display_name": "Python 3",
   "language": "python",
   "name": "python3"
  },
  "language_info": {
   "codemirror_mode": {
    "name": "ipython",
    "version": 3
   },
   "file_extension": ".py",
   "mimetype": "text/x-python",
   "name": "python",
   "nbconvert_exporter": "python",
   "pygments_lexer": "ipython3",
   "version": "3.10.10"
  },
  "papermill": {
   "default_parameters": {},
   "duration": 19.296311,
   "end_time": "2023-05-15T17:32:50.763556",
   "environment_variables": {},
   "exception": true,
   "input_path": "__notebook__.ipynb",
   "output_path": "__notebook__.ipynb",
   "parameters": {},
   "start_time": "2023-05-15T17:32:31.467245",
   "version": "2.4.0"
  }
 },
 "nbformat": 4,
 "nbformat_minor": 5
}
